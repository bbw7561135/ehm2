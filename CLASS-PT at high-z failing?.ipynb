{
 "cells": [
  {
   "cell_type": "markdown",
   "metadata": {},
   "source": [
    "Problem was with FFTLog mode. 'SLOW' works better."
   ]
  },
  {
   "cell_type": "code",
   "execution_count": 29,
   "metadata": {},
   "outputs": [
    {
     "name": "stdout",
     "output_type": "stream",
     "text": [
      "Populating the interactive namespace from numpy and matplotlib\n"
     ]
    },
    {
     "data": {
      "image/png": "[encoded data removed]",
      "text/plain": [
       "<Figure size 432x288 with 1 Axes>"
      ]
     },
     "metadata": {
      "needs_background": "light"
     },
     "output_type": "display_data"
    }
   ],
   "source": [
    "from classy import Class\n",
    "from scipy.optimize import minimize\n",
    "%pylab inline\n",
    "\n",
    "cosmol = Class()\n",
    "z = 3.\n",
    "Omega_c = (0.3175-0.049)\n",
    "Omega_b = 0.049\n",
    "h = 0.6711\n",
    "A_s = 2.134724e-09\n",
    "n_s = 0.9624\n",
    "N_eff = 3.046\n",
    "\n",
    "# Set class parameters\n",
    "cosmol.set({'k_pivot':'0.05',\n",
    "        'A_s':A_s,\n",
    "        'n_s':n_s,\n",
    "        'h':h,\n",
    "        'Omega_b':Omega_b,\n",
    "        'N_eff':N_eff,\n",
    "        'Omega_cdm':Omega_c,\n",
    "        'P_k_max_h/Mpc': '300.',\n",
    "        'output':'mPk,tCl,lCl',\n",
    "        'z_pk':z,\n",
    "        'non linear':' PT ',\n",
    "        'IR resummation':' Yes ',\n",
    "        'Bias tracers':' No ',\n",
    "        'RSD':' No ',\n",
    "        #'AP':'Yes',\n",
    "        'FFTLog mode':'SLOW',\n",
    "        'Omfid':Omega_c+Omega_b\n",
    "        })\n",
    "# Compute CLASS and set nuisance parameters\n",
    "cosmol.compute()\n",
    "\n",
    "## Load all Quijote fiducial high resolution power spectra and convert units\n",
    "all_quijote_pk = np.load('/home/ophilcox/quijote_fid_HR_all_Pk.npy')\n",
    "kQ = all_quijote_pk[0,0,:]*h\n",
    "\n",
    "PkQ = all_quijote_pk[:,-1,:]/h**3. # at z = 3\n",
    "\n",
    "### Generate Pk\n",
    "pk_mult = cosmol.get_pk_mult(kQ,z,len(kQ))\n",
    "\n",
    "one_loop_pk = lambda cs: (pk_mult[14] + pk_mult[0] + 2*cs*pk_mult[10])\n",
    "lin_pk = [cosmol.pk_lin(kk,z) for kk in kQ]\n",
    "\n",
    "### Fit to data\n",
    "k_max = 0.3\n",
    "chi2 = lambda cs: np.sum(((one_loop_pk(cs)-PkQ.mean(axis=0))**2./(PkQ.std(axis=0)/np.sqrt(len(PkQ)))**2.)[kQ<k_max])\n",
    "\n",
    "x = minimize(chi2,1.)\n",
    "cs_opt = x.x\n",
    "\n",
    "plt.errorbar(kQ,PkQ.mean(axis=0)/one_loop_pk(cs_opt),yerr=PkQ.std(axis=0)/np.sqrt(len(PkQ))/one_loop_pk(cs_opt))\n",
    "plt.xlim([0,0.5])\n",
    "plt.ylim([0.95,1.05])\n",
    "plt.ylabel(r'$P_\\mathrm{sim}(k)/P_\\mathrm{CLASS}(k)$',fontsize=14)\n",
    "plt.xlabel(r'$k$ [1/Mpc]',fontsize=15);\n",
    "plt.vlines(k_max,0,2,linestyles=':',color='gray');"
   ]
  },
  {
   "cell_type": "code",
   "execution_count": null,
   "metadata": {},
   "outputs": [],
   "source": []
  },
  {
   "cell_type": "code",
   "execution_count": null,
   "metadata": {},
   "outputs": [],
   "source": []
  }
 ],
 "metadata": {
  "kernelspec": {
   "display_name": "Python 3",
   "language": "python",
   "name": "python3"
  },
  "language_info": {
   "codemirror_mode": {
    "name": "ipython",
    "version": 3
   },
   "file_extension": ".py",
   "mimetype": "text/x-python",
   "name": "python",
   "nbconvert_exporter": "python",
   "pygments_lexer": "ipython3",
   "version": "3.7.6"
  }
 },
 "nbformat": 4,
 "nbformat_minor": 2
}

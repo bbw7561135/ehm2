{
 "cells": [
  {
   "cell_type": "code",
   "execution_count": 1,
   "metadata": {},
   "outputs": [
    {
     "name": "stdout",
     "output_type": "stream",
     "text": [
      "Populating the interactive namespace from numpy and matplotlib\n"
     ]
    }
   ],
   "source": [
    "%pylab inline"
   ]
  },
  {
   "cell_type": "code",
   "execution_count": 2,
   "metadata": {},
   "outputs": [],
   "source": [
    "import sys\n",
    "sys.path.append('/home/ophilcox/EffectiveHalos/')\n",
    "from EffectiveHalos import *"
   ]
  },
  {
   "cell_type": "markdown",
   "metadata": {},
   "source": [
    "# Shear PS:\n",
    "\n",
    "From Nicola++20:\n",
    "$$C^{ij}_{\\ell} = \\int dz\\frac{c}{H(z)}\\frac{W^i_\\gamma(\\chi(z))W^j_\\gamma(\\chi(z))}{\\chi^2(z)}P\\left(k = \\frac{\\ell+1/2}{\\chi(z)},z\\right)$$\n",
    "\n",
    "for comoving distance $\\chi(z)$ and\n",
    "$$W^i_{\\gamma}(\\chi(z)) = \\frac{3}{2}\\frac{\\Omega_m H_0^2}{c^2}\\frac{\\chi(z)}{a(z)}\\int_{\\chi(z)}^{\\chi_h} dz'\\,n^i(z')\\frac{\\chi(z')-\\chi(z)}{\\chi(z')}$$\n",
    "for normalized sourced density $n^i(z)$, $\\chi_h$ is comoving distance to the horizon and $a(z)$ is the scale factor.\n",
    "\n",
    "We assume $n_z = z^2 e^{-z/z_0}$ with $z_0 = 0.3$ as in Nicola++20 (correcting a sign error)."
   ]
  },
  {
   "cell_type": "markdown",
   "metadata": {},
   "source": [
    "#### Load in functions"
   ]
  },
  {
   "cell_type": "code",
   "execution_count": 64,
   "metadata": {},
   "outputs": [],
   "source": [
    "cosm = Cosmology('Quijote')\n",
    "mf = MassFunction(cosm,'Bhattacharya')\n",
    "hp = HaloPhysics(cosm,mf)"
   ]
  },
  {
   "cell_type": "code",
   "execution_count": 65,
   "metadata": {},
   "outputs": [
    {
     "name": "stdout",
     "output_type": "stream",
     "text": [
      "Need to put in proper units e.g. for c\n",
      "n(z) extends over all z currently\n"
     ]
    }
   ],
   "source": [
    "# Cosmology quantities\n",
    "D_z = np.vectorize(cosm.cosmo.scale_independent_growth_factor)\n",
    "a_z = lambda z: 1./(1.+z)\n",
    "Omega_m = cosm.cosmo.Omega_m()\n",
    "H0 = cosm.cosmo.h()*100.\n",
    "c = 1.\n",
    "print('Need to put in proper units e.g. for c')\n",
    "H_z = lambda z: np.vectorize(cosm.cosmo.Hubble)(z)/cosm.cosmo.Hubble(0)*H0 # get simple units\n",
    "\n",
    "assert np.abs(Omega_m + cosm.cosmo.Omega_Lambda()-1.)<1e-3, 'chi_z definition must be changed'\n",
    "chi_z = lambda z: np.vectorize(cosm.cosmo.angular_distance)(z)/a_z(z)\n",
    "\n",
    "z_max = 10. # exact value hopefully unimportant\n",
    "chi_max = chi_z(z_max)\n",
    "\n",
    "# Source distribution (unnormalized)\n",
    "z0 = 0.3\n",
    "n_z = lambda z: z**2.*np.exp(-z/z0)\n",
    "print(\"n(z) extends over all z currently\")"
   ]
  },
  {
   "cell_type": "markdown",
   "metadata": {},
   "source": [
    "#### Compute $P(k,z)$ model"
   ]
  },
  {
   "cell_type": "markdown",
   "metadata": {},
   "source": [
    "#### Compute $W_\\gamma(z)$"
   ]
  },
  {
   "cell_type": "code",
   "execution_count": 66,
   "metadata": {},
   "outputs": [],
   "source": [
    "from scipy.integrate import simps\n",
    "from scipy.interpolate import InterpolatedUnivariateSpline\n",
    "z1_arr = np.arange(0.01,z_max,0.01)[:,np.newaxis] # z\n",
    "z2_arr = np.arange(0.01,z_max+1,0.01)[np.newaxis,:] # z-primed\n",
    "\n",
    "mat = n_z(z2_arr)*(1.-chi_z(z1_arr)/chi_z(z2_arr))*(z2_arr>z1_arr)\n",
    "\n",
    "integ_mat = simps(mat,z2_arr)\n",
    "z1_arr = z1_arr.ravel()\n",
    "int_mat = InterpolatedUnivariateSpline(z1_arr,integ_mat)\n",
    "W_z = lambda z: 3./2.*Omega_m*H0**2./c**2.*chi_z(z)/a_z(z)*int_mat(z)"
   ]
  },
  {
   "cell_type": "code",
   "execution_count": 67,
   "metadata": {},
   "outputs": [
    {
     "data": {
      "text/plain": [
       "Text(0.5,0,'$z$')"
      ]
     },
     "execution_count": 67,
     "metadata": {},
     "output_type": "execute_result"
    },
    {
     "data": {
      "image/png": "[encoded data removed]",
      "text/plain": [
       "<Figure size 432x288 with 1 Axes>"
      ]
     },
     "metadata": {
      "needs_background": "light"
     },
     "output_type": "display_data"
    }
   ],
   "source": [
    "plt.plot(z1_arr,W_z(z1_arr))\n",
    "plt.ylabel(r'$W_{\\gamma}(z)$ [unnormalized]',fontsize=14)\n",
    "plt.xlabel(r'$z$',fontsize=14)"
   ]
  },
  {
   "cell_type": "markdown",
   "metadata": {},
   "source": [
    "#### Compute $C_{\\ell}^{\\gamma\\gamma}$"
   ]
  },
  {
   "cell_type": "code",
   "execution_count": 89,
   "metadata": {},
   "outputs": [],
   "source": [
    "hm = HaloModel(cosm,mf,hp,np.asarray([0.5,0.5]),0.1)"
   ]
  },
  {
   "cell_type": "code",
   "execution_count": null,
   "metadata": {},
   "outputs": [],
   "source": [
    "hm.halo_model()"
   ]
  },
  {
   "cell_type": "code",
   "execution_count": 90,
   "metadata": {},
   "outputs": [],
   "source": [
    "## Linear theory\n",
    "P_lin_kz = lambda k,z: cosm.compute_linear_power(k,z)\n",
    "\n",
    "def P_shm_kz(k,z):\n",
    "    hm = HaloModel(cosm,mf,hp,k,z)\n",
    "    return hm.halo_model(-1,-1,'Linear',0,0,0)\n",
    "\n",
    "def P_shm_IR_res_kz(k,z):\n",
    "    hm = HaloModel(cosm,mf,hp,k,z)\n",
    "    return hm.halo_model(-1,-1,'Linear',0,0,1)"
   ]
  },
  {
   "cell_type": "code",
   "execution_count": 93,
   "metadata": {},
   "outputs": [],
   "source": [
    "ls = np.arange(1,1000,3)\n",
    "zs = np.arange(0.1,1.,0.1)\n",
    "\n",
    "def compute_Cls(P_kz):\n",
    "    pp_int = np.zeros((len(ls),len(zs)))\n",
    "    for zi,z in enumerate(zs):\n",
    "        #print(zi)\n",
    "        ks = (ls+0.5)/chi_z(z)\n",
    "        pp_int[:,zi] = P_kz(ks,z)\n",
    "    tmp_integ = lambda z: c/H_z(z)*W_z(z)**2./chi_z(z)**2.\n",
    "    Cls = simps(tmp_integ(zs)*pp_int,zs)\n",
    "    return Cls"
   ]
  },
  {
   "cell_type": "code",
   "execution_count": 94,
   "metadata": {},
   "outputs": [],
   "source": [
    "Cls_lin = compute_Cls(P_lin_kz)\n",
    "Cls_shm = compute_Cls(P_shm_kz)\n",
    "Cls_shm_IR_res = compute_Cls(P_shm_IR_res_kz)"
   ]
  },
  {
   "cell_type": "code",
   "execution_count": 95,
   "metadata": {},
   "outputs": [
    {
     "data": {
      "image/png": "[encoded data removed]",
      "text/plain": [
       "<Figure size 432x288 with 1 Axes>"
      ]
     },
     "metadata": {
      "needs_background": "light"
     },
     "output_type": "display_data"
    }
   ],
   "source": [
    "plt.semilogx(ls,ls*Cls_lin,label='Linear Theory')\n",
    "plt.semilogx(ls,ls*Cls_shm,label='Standard Halo Model')\n",
    "plt.semilogx(ls,ls*Cls_shm_IR_res,label='Standard Halo Model + IR resummation')\n",
    "plt.ylabel(r'$\\ell C_{\\ell}^{\\gamma\\gamma}$ [unnormalized]',fontsize=14)\n",
    "plt.xlabel(r'$\\ell$',fontsize=14);\n",
    "plt.legend(fontsize=14);"
   ]
  },
  {
   "cell_type": "code",
   "execution_count": null,
   "metadata": {},
   "outputs": [],
   "source": []
  }
 ],
 "metadata": {
  "kernelspec": {
   "display_name": "Python 2",
   "language": "python",
   "name": "python2"
  },
  "language_info": {
   "codemirror_mode": {
    "name": "ipython",
    "version": 2
   },
   "file_extension": ".py",
   "mimetype": "text/x-python",
   "name": "python",
   "nbconvert_exporter": "python",
   "pygments_lexer": "ipython2",
   "version": "2.7.15"
  }
 },
 "nbformat": 4,
 "nbformat_minor": 2
}
